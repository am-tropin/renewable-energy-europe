{
 "cells": [
  {
   "cell_type": "code",
   "execution_count": 1,
   "id": "f032096d",
   "metadata": {},
   "outputs": [
    {
     "name": "stdout",
     "output_type": "stream",
     "text": [
      "Please provide your Kaggle credentials to download this dataset. Learn more: http://bit.ly/kaggle-creds\n",
      "Your Kaggle username: alexandertropin\n",
      "Your Kaggle Key: ········\n",
      "Downloading wind-energy-germany.zip to ./wind-energy-germany\n"
     ]
    },
    {
     "name": "stderr",
     "output_type": "stream",
     "text": [
      "100%|███████████████████████████████████████| 14.9k/14.9k [00:00<00:00, 720kB/s]"
     ]
    },
    {
     "name": "stdout",
     "output_type": "stream",
     "text": [
      "\n"
     ]
    },
    {
     "name": "stderr",
     "output_type": "stream",
     "text": [
      "\n"
     ]
    }
   ],
   "source": [
    "import opendatasets as od\n",
    "\n",
    "od.download(\"https://www.kaggle.com/datasets/aymanlafaz/wind-energy-germany\")\n"
   ]
  },
  {
   "cell_type": "code",
   "execution_count": null,
   "id": "de47b5d2",
   "metadata": {},
   "outputs": [],
   "source": [
    "'''\n",
    "utc_timestamp : Time in UTC\n",
    "wind_generation : Daily wind production in MW\n",
    "wind_capacity : Electrical capacity of wind in MW\n",
    "temperature : Daily Temperature in degrees C\n",
    "\n",
    "'''"
   ]
  },
  {
   "cell_type": "code",
   "execution_count": 2,
   "id": "a495429f",
   "metadata": {},
   "outputs": [],
   "source": [
    "import pandas as pd"
   ]
  },
  {
   "cell_type": "code",
   "execution_count": 9,
   "id": "294011ff",
   "metadata": {},
   "outputs": [
    {
     "data": {
      "text/html": [
       "<div>\n",
       "<style scoped>\n",
       "    .dataframe tbody tr th:only-of-type {\n",
       "        vertical-align: middle;\n",
       "    }\n",
       "\n",
       "    .dataframe tbody tr th {\n",
       "        vertical-align: top;\n",
       "    }\n",
       "\n",
       "    .dataframe thead th {\n",
       "        text-align: right;\n",
       "    }\n",
       "</style>\n",
       "<table border=\"1\" class=\"dataframe\">\n",
       "  <thead>\n",
       "    <tr style=\"text-align: right;\">\n",
       "      <th></th>\n",
       "      <th>utc_timestamp</th>\n",
       "      <th>wind_generation_actual</th>\n",
       "      <th>wind_capacity</th>\n",
       "      <th>temperature</th>\n",
       "    </tr>\n",
       "  </thead>\n",
       "  <tbody>\n",
       "    <tr>\n",
       "      <th>0</th>\n",
       "      <td>2017-01-01 00:00:00+00:00</td>\n",
       "      <td>291760.0</td>\n",
       "      <td>37149.130</td>\n",
       "      <td>-2.117</td>\n",
       "    </tr>\n",
       "    <tr>\n",
       "      <th>1</th>\n",
       "      <td>2017-01-02 00:00:00+00:00</td>\n",
       "      <td>295097.0</td>\n",
       "      <td>37152.125</td>\n",
       "      <td>-1.154</td>\n",
       "    </tr>\n",
       "    <tr>\n",
       "      <th>2</th>\n",
       "      <td>2017-01-03 00:00:00+00:00</td>\n",
       "      <td>666170.0</td>\n",
       "      <td>37155.208</td>\n",
       "      <td>-0.239</td>\n",
       "    </tr>\n",
       "    <tr>\n",
       "      <th>3</th>\n",
       "      <td>2017-01-04 00:00:00+00:00</td>\n",
       "      <td>686581.0</td>\n",
       "      <td>37160.125</td>\n",
       "      <td>0.620</td>\n",
       "    </tr>\n",
       "    <tr>\n",
       "      <th>4</th>\n",
       "      <td>2017-01-05 00:00:00+00:00</td>\n",
       "      <td>261759.0</td>\n",
       "      <td>37163.542</td>\n",
       "      <td>-3.908</td>\n",
       "    </tr>\n",
       "  </tbody>\n",
       "</table>\n",
       "</div>"
      ],
      "text/plain": [
       "               utc_timestamp  wind_generation_actual  wind_capacity  \\\n",
       "0  2017-01-01 00:00:00+00:00                291760.0      37149.130   \n",
       "1  2017-01-02 00:00:00+00:00                295097.0      37152.125   \n",
       "2  2017-01-03 00:00:00+00:00                666170.0      37155.208   \n",
       "3  2017-01-04 00:00:00+00:00                686581.0      37160.125   \n",
       "4  2017-01-05 00:00:00+00:00                261759.0      37163.542   \n",
       "\n",
       "   temperature  \n",
       "0       -2.117  \n",
       "1       -1.154  \n",
       "2       -0.239  \n",
       "3        0.620  \n",
       "4       -3.908  "
      ]
     },
     "execution_count": 9,
     "metadata": {},
     "output_type": "execute_result"
    }
   ],
   "source": [
    "wind_df = pd.read_csv('wind-energy-germany/germany-wind-energy.csv')\n",
    "wind_df.head()"
   ]
  },
  {
   "cell_type": "code",
   "execution_count": 4,
   "id": "08aca895",
   "metadata": {},
   "outputs": [
    {
     "data": {
      "text/plain": [
       "(1094, 4)"
      ]
     },
     "execution_count": 4,
     "metadata": {},
     "output_type": "execute_result"
    }
   ],
   "source": [
    "wind_df.shape"
   ]
  },
  {
   "cell_type": "code",
   "execution_count": 10,
   "id": "5e4ae663",
   "metadata": {},
   "outputs": [
    {
     "name": "stdout",
     "output_type": "stream",
     "text": [
      "<class 'pandas.core.frame.DataFrame'>\n",
      "RangeIndex: 1094 entries, 0 to 1093\n",
      "Data columns (total 4 columns):\n",
      " #   Column                  Non-Null Count  Dtype  \n",
      "---  ------                  --------------  -----  \n",
      " 0   utc_timestamp           1094 non-null   object \n",
      " 1   wind_generation_actual  1094 non-null   float64\n",
      " 2   wind_capacity           1094 non-null   float64\n",
      " 3   temperature             1094 non-null   float64\n",
      "dtypes: float64(3), object(1)\n",
      "memory usage: 34.3+ KB\n"
     ]
    }
   ],
   "source": [
    "wind_df.info()"
   ]
  },
  {
   "cell_type": "code",
   "execution_count": 11,
   "id": "ca345097",
   "metadata": {},
   "outputs": [
    {
     "data": {
      "text/html": [
       "<div>\n",
       "<style scoped>\n",
       "    .dataframe tbody tr th:only-of-type {\n",
       "        vertical-align: middle;\n",
       "    }\n",
       "\n",
       "    .dataframe tbody tr th {\n",
       "        vertical-align: top;\n",
       "    }\n",
       "\n",
       "    .dataframe thead th {\n",
       "        text-align: right;\n",
       "    }\n",
       "</style>\n",
       "<table border=\"1\" class=\"dataframe\">\n",
       "  <thead>\n",
       "    <tr style=\"text-align: right;\">\n",
       "      <th></th>\n",
       "      <th>utc_timestamp</th>\n",
       "      <th>wind_generation_actual</th>\n",
       "      <th>wind_capacity</th>\n",
       "      <th>temperature</th>\n",
       "    </tr>\n",
       "  </thead>\n",
       "  <tbody>\n",
       "    <tr>\n",
       "      <th>0</th>\n",
       "      <td>2017-01-01 00:00:00+00:00</td>\n",
       "      <td>291760.0</td>\n",
       "      <td>37149.130</td>\n",
       "      <td>-2.117</td>\n",
       "    </tr>\n",
       "    <tr>\n",
       "      <th>1</th>\n",
       "      <td>2017-01-02 00:00:00+00:00</td>\n",
       "      <td>295097.0</td>\n",
       "      <td>37152.125</td>\n",
       "      <td>-1.154</td>\n",
       "    </tr>\n",
       "    <tr>\n",
       "      <th>2</th>\n",
       "      <td>2017-01-03 00:00:00+00:00</td>\n",
       "      <td>666170.0</td>\n",
       "      <td>37155.208</td>\n",
       "      <td>-0.239</td>\n",
       "    </tr>\n",
       "    <tr>\n",
       "      <th>3</th>\n",
       "      <td>2017-01-04 00:00:00+00:00</td>\n",
       "      <td>686581.0</td>\n",
       "      <td>37160.125</td>\n",
       "      <td>0.620</td>\n",
       "    </tr>\n",
       "    <tr>\n",
       "      <th>4</th>\n",
       "      <td>2017-01-05 00:00:00+00:00</td>\n",
       "      <td>261759.0</td>\n",
       "      <td>37163.542</td>\n",
       "      <td>-3.908</td>\n",
       "    </tr>\n",
       "  </tbody>\n",
       "</table>\n",
       "</div>"
      ],
      "text/plain": [
       "              utc_timestamp  wind_generation_actual  wind_capacity  \\\n",
       "0 2017-01-01 00:00:00+00:00                291760.0      37149.130   \n",
       "1 2017-01-02 00:00:00+00:00                295097.0      37152.125   \n",
       "2 2017-01-03 00:00:00+00:00                666170.0      37155.208   \n",
       "3 2017-01-04 00:00:00+00:00                686581.0      37160.125   \n",
       "4 2017-01-05 00:00:00+00:00                261759.0      37163.542   \n",
       "\n",
       "   temperature  \n",
       "0       -2.117  \n",
       "1       -1.154  \n",
       "2       -0.239  \n",
       "3        0.620  \n",
       "4       -3.908  "
      ]
     },
     "execution_count": 11,
     "metadata": {},
     "output_type": "execute_result"
    }
   ],
   "source": [
    "wind_df.utc_timestamp = pd.to_datetime(wind_df.utc_timestamp)\n",
    "wind_df.head()"
   ]
  },
  {
   "cell_type": "code",
   "execution_count": 12,
   "id": "c0f07707",
   "metadata": {},
   "outputs": [
    {
     "name": "stdout",
     "output_type": "stream",
     "text": [
      "<class 'pandas.core.frame.DataFrame'>\n",
      "RangeIndex: 1094 entries, 0 to 1093\n",
      "Data columns (total 4 columns):\n",
      " #   Column                  Non-Null Count  Dtype              \n",
      "---  ------                  --------------  -----              \n",
      " 0   utc_timestamp           1094 non-null   datetime64[ns, UTC]\n",
      " 1   wind_generation_actual  1094 non-null   float64            \n",
      " 2   wind_capacity           1094 non-null   float64            \n",
      " 3   temperature             1094 non-null   float64            \n",
      "dtypes: datetime64[ns, UTC](1), float64(3)\n",
      "memory usage: 34.3 KB\n"
     ]
    }
   ],
   "source": [
    "wind_df.info()"
   ]
  },
  {
   "cell_type": "code",
   "execution_count": 18,
   "id": "4798be87",
   "metadata": {},
   "outputs": [
    {
     "data": {
      "text/html": [
       "<div>\n",
       "<style scoped>\n",
       "    .dataframe tbody tr th:only-of-type {\n",
       "        vertical-align: middle;\n",
       "    }\n",
       "\n",
       "    .dataframe tbody tr th {\n",
       "        vertical-align: top;\n",
       "    }\n",
       "\n",
       "    .dataframe thead th {\n",
       "        text-align: right;\n",
       "    }\n",
       "</style>\n",
       "<table border=\"1\" class=\"dataframe\">\n",
       "  <thead>\n",
       "    <tr style=\"text-align: right;\">\n",
       "      <th></th>\n",
       "      <th>wind_generation_actual</th>\n",
       "      <th>wind_capacity</th>\n",
       "      <th>temperature</th>\n",
       "      <th>date</th>\n",
       "    </tr>\n",
       "  </thead>\n",
       "  <tbody>\n",
       "    <tr>\n",
       "      <th>0</th>\n",
       "      <td>291760.0</td>\n",
       "      <td>37149.130</td>\n",
       "      <td>-2.117</td>\n",
       "      <td>2017-01-01</td>\n",
       "    </tr>\n",
       "    <tr>\n",
       "      <th>1</th>\n",
       "      <td>295097.0</td>\n",
       "      <td>37152.125</td>\n",
       "      <td>-1.154</td>\n",
       "      <td>2017-01-02</td>\n",
       "    </tr>\n",
       "    <tr>\n",
       "      <th>2</th>\n",
       "      <td>666170.0</td>\n",
       "      <td>37155.208</td>\n",
       "      <td>-0.239</td>\n",
       "      <td>2017-01-03</td>\n",
       "    </tr>\n",
       "    <tr>\n",
       "      <th>3</th>\n",
       "      <td>686581.0</td>\n",
       "      <td>37160.125</td>\n",
       "      <td>0.620</td>\n",
       "      <td>2017-01-04</td>\n",
       "    </tr>\n",
       "    <tr>\n",
       "      <th>4</th>\n",
       "      <td>261759.0</td>\n",
       "      <td>37163.542</td>\n",
       "      <td>-3.908</td>\n",
       "      <td>2017-01-05</td>\n",
       "    </tr>\n",
       "  </tbody>\n",
       "</table>\n",
       "</div>"
      ],
      "text/plain": [
       "   wind_generation_actual  wind_capacity  temperature        date\n",
       "0                291760.0      37149.130       -2.117  2017-01-01\n",
       "1                295097.0      37152.125       -1.154  2017-01-02\n",
       "2                666170.0      37155.208       -0.239  2017-01-03\n",
       "3                686581.0      37160.125        0.620  2017-01-04\n",
       "4                261759.0      37163.542       -3.908  2017-01-05"
      ]
     },
     "execution_count": 18,
     "metadata": {},
     "output_type": "execute_result"
    }
   ],
   "source": [
    "wind_df['date'] = pd.to_datetime(wind_df['utc_timestamp']).dt.date\n",
    "wind_df = wind_df.drop(['utc_timestamp'], axis=1)\n",
    "wind_df.head()"
   ]
  },
  {
   "cell_type": "code",
   "execution_count": 19,
   "id": "b2bd0b03",
   "metadata": {},
   "outputs": [
    {
     "data": {
      "text/html": [
       "<div>\n",
       "<style scoped>\n",
       "    .dataframe tbody tr th:only-of-type {\n",
       "        vertical-align: middle;\n",
       "    }\n",
       "\n",
       "    .dataframe tbody tr th {\n",
       "        vertical-align: top;\n",
       "    }\n",
       "\n",
       "    .dataframe thead th {\n",
       "        text-align: right;\n",
       "    }\n",
       "</style>\n",
       "<table border=\"1\" class=\"dataframe\">\n",
       "  <thead>\n",
       "    <tr style=\"text-align: right;\">\n",
       "      <th></th>\n",
       "      <th>wind_generation_actual</th>\n",
       "      <th>wind_capacity</th>\n",
       "      <th>temperature</th>\n",
       "    </tr>\n",
       "    <tr>\n",
       "      <th>date</th>\n",
       "      <th></th>\n",
       "      <th></th>\n",
       "      <th></th>\n",
       "    </tr>\n",
       "  </thead>\n",
       "  <tbody>\n",
       "    <tr>\n",
       "      <th>2017-01-01</th>\n",
       "      <td>291760.0</td>\n",
       "      <td>37149.130</td>\n",
       "      <td>-2.117</td>\n",
       "    </tr>\n",
       "    <tr>\n",
       "      <th>2017-01-02</th>\n",
       "      <td>295097.0</td>\n",
       "      <td>37152.125</td>\n",
       "      <td>-1.154</td>\n",
       "    </tr>\n",
       "    <tr>\n",
       "      <th>2017-01-03</th>\n",
       "      <td>666170.0</td>\n",
       "      <td>37155.208</td>\n",
       "      <td>-0.239</td>\n",
       "    </tr>\n",
       "    <tr>\n",
       "      <th>2017-01-04</th>\n",
       "      <td>686581.0</td>\n",
       "      <td>37160.125</td>\n",
       "      <td>0.620</td>\n",
       "    </tr>\n",
       "    <tr>\n",
       "      <th>2017-01-05</th>\n",
       "      <td>261759.0</td>\n",
       "      <td>37163.542</td>\n",
       "      <td>-3.908</td>\n",
       "    </tr>\n",
       "    <tr>\n",
       "      <th>...</th>\n",
       "      <td>...</td>\n",
       "      <td>...</td>\n",
       "      <td>...</td>\n",
       "    </tr>\n",
       "    <tr>\n",
       "      <th>2019-12-26</th>\n",
       "      <td>132739.0</td>\n",
       "      <td>50424.125</td>\n",
       "      <td>2.790</td>\n",
       "    </tr>\n",
       "    <tr>\n",
       "      <th>2019-12-27</th>\n",
       "      <td>146590.0</td>\n",
       "      <td>50427.000</td>\n",
       "      <td>1.327</td>\n",
       "    </tr>\n",
       "    <tr>\n",
       "      <th>2019-12-28</th>\n",
       "      <td>159126.0</td>\n",
       "      <td>50427.292</td>\n",
       "      <td>-1.441</td>\n",
       "    </tr>\n",
       "    <tr>\n",
       "      <th>2019-12-29</th>\n",
       "      <td>349839.0</td>\n",
       "      <td>50434.750</td>\n",
       "      <td>-1.314</td>\n",
       "    </tr>\n",
       "    <tr>\n",
       "      <th>2019-12-30</th>\n",
       "      <td>639343.0</td>\n",
       "      <td>50452.000</td>\n",
       "      <td>0.542</td>\n",
       "    </tr>\n",
       "  </tbody>\n",
       "</table>\n",
       "<p>1094 rows × 3 columns</p>\n",
       "</div>"
      ],
      "text/plain": [
       "            wind_generation_actual  wind_capacity  temperature\n",
       "date                                                          \n",
       "2017-01-01                291760.0      37149.130       -2.117\n",
       "2017-01-02                295097.0      37152.125       -1.154\n",
       "2017-01-03                666170.0      37155.208       -0.239\n",
       "2017-01-04                686581.0      37160.125        0.620\n",
       "2017-01-05                261759.0      37163.542       -3.908\n",
       "...                            ...            ...          ...\n",
       "2019-12-26                132739.0      50424.125        2.790\n",
       "2019-12-27                146590.0      50427.000        1.327\n",
       "2019-12-28                159126.0      50427.292       -1.441\n",
       "2019-12-29                349839.0      50434.750       -1.314\n",
       "2019-12-30                639343.0      50452.000        0.542\n",
       "\n",
       "[1094 rows x 3 columns]"
      ]
     },
     "execution_count": 19,
     "metadata": {},
     "output_type": "execute_result"
    }
   ],
   "source": [
    "wind_df.set_index('date')"
   ]
  },
  {
   "cell_type": "code",
   "execution_count": 5,
   "id": "90d84916",
   "metadata": {},
   "outputs": [],
   "source": [
    "# wind_df.index = pd.to_datetime(wind_df.index)"
   ]
  },
  {
   "cell_type": "code",
   "execution_count": null,
   "id": "83eda624",
   "metadata": {},
   "outputs": [],
   "source": []
  },
  {
   "cell_type": "code",
   "execution_count": null,
   "id": "bc4b1131",
   "metadata": {},
   "outputs": [],
   "source": []
  },
  {
   "cell_type": "code",
   "execution_count": null,
   "id": "d55e5cff",
   "metadata": {},
   "outputs": [],
   "source": []
  }
 ],
 "metadata": {
  "kernelspec": {
   "display_name": "Python 3 (ipykernel)",
   "language": "python",
   "name": "python3"
  },
  "language_info": {
   "codemirror_mode": {
    "name": "ipython",
    "version": 3
   },
   "file_extension": ".py",
   "mimetype": "text/x-python",
   "name": "python",
   "nbconvert_exporter": "python",
   "pygments_lexer": "ipython3",
   "version": "3.11.1"
  }
 },
 "nbformat": 4,
 "nbformat_minor": 5
}
